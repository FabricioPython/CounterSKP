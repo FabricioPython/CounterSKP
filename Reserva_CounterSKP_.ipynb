{
  "nbformat": 4,
  "nbformat_minor": 0,
  "metadata": {
    "colab": {
      "provenance": [],
      "collapsed_sections": [
        "TR8ui0_UrYOq",
        "_HAu5iD6rhg4",
        "r6hgZTE4r0j8",
        "yC80pZWeruBj",
        "Ch2Gfe_8sTqI",
        "Xm7CxYu-sCQ5",
        "mMEN8iuFr6OQ"
      ]
    },
    "kernelspec": {
      "name": "python3",
      "display_name": "Python 3"
    },
    "language_info": {
      "name": "python"
    }
  },
  "cells": [
    {
      "cell_type": "markdown",
      "source": [
        "# Como usar:\n",
        "\n",
        "1. Criar um diretorio raiz chamado Skps;\n",
        "2. Criar um subdiretório que armazenará as imagens;\n",
        "3. Mover as imagens para o subdiretório;\n",
        "4. Adicionar em locals o nome do diretorio onde as imagens dos skp's estão armazenadas;\n",
        "5. Definir no campo variáveis os nomes de agencia e nome;\n",
        "\n",
        "\n",
        "Pontos de Atencão: é muito importante a foto do canhoto ser de qualidade e não haver nenhum faltando na sequencia fisica.\n",
        "\n",
        "Labels de nomes devem ser adicionados aos nomes das imagens.\n",
        "\n"
      ],
      "metadata": {
        "id": "t2es2JVVMwzb"
      }
    },
    {
      "cell_type": "markdown",
      "source": [
        "# install\n"
      ],
      "metadata": {
        "id": "TR8ui0_UrYOq"
      }
    },
    {
      "cell_type": "code",
      "metadata": {
        "colab": {
          "base_uri": "https://localhost:8080/"
        },
        "id": "34d5941b",
        "outputId": "51c9d345-5e27-4778-fbb5-d23668f53da9"
      },
      "source": [
        "# Install the zbar shared library\n",
        "!apt-get update\n",
        "!apt-get install -y libzbar0\n",
        "!pip install pyzbar"
      ],
      "execution_count": null,
      "outputs": [
        {
          "output_type": "stream",
          "name": "stdout",
          "text": [
            "\r0% [Working]\r            \rHit:1 https://cloud.r-project.org/bin/linux/ubuntu jammy-cran40/ InRelease\n",
            "\r0% [Connecting to archive.ubuntu.com] [Connecting to security.ubuntu.com (185.1\r                                                                               \rHit:2 http://archive.ubuntu.com/ubuntu jammy InRelease\n",
            "\r0% [Waiting for headers] [Waiting for headers] [Waiting for headers] [Waiting f\r                                                                               \rHit:3 https://developer.download.nvidia.com/compute/cuda/repos/ubuntu2204/x86_64  InRelease\n",
            "\r0% [Waiting for headers] [Waiting for headers] [Waiting for headers] [Connected\r                                                                               \rHit:4 http://archive.ubuntu.com/ubuntu jammy-updates InRelease\n",
            "\r0% [Waiting for headers] [Waiting for headers] [Waiting for headers] [Connected\r                                                                               \rHit:5 http://archive.ubuntu.com/ubuntu jammy-backports InRelease\n",
            "Hit:6 http://security.ubuntu.com/ubuntu jammy-security InRelease\n",
            "Hit:7 https://r2u.stat.illinois.edu/ubuntu jammy InRelease\n",
            "Hit:8 https://ppa.launchpadcontent.net/deadsnakes/ppa/ubuntu jammy InRelease\n",
            "Hit:9 https://ppa.launchpadcontent.net/graphics-drivers/ppa/ubuntu jammy InRelease\n",
            "Hit:10 https://ppa.launchpadcontent.net/ubuntugis/ppa/ubuntu jammy InRelease\n",
            "Reading package lists... Done\n",
            "W: Skipping acquire of configured file 'main/source/Sources' as repository 'https://r2u.stat.illinois.edu/ubuntu jammy InRelease' does not seem to provide it (sources.list entry misspelt?)\n",
            "Reading package lists... Done\n",
            "Building dependency tree... Done\n",
            "Reading state information... Done\n",
            "libzbar0 is already the newest version (0.23.92-4build2).\n",
            "0 upgraded, 0 newly installed, 0 to remove and 38 not upgraded.\n",
            "Requirement already satisfied: pyzbar in /usr/local/lib/python3.11/dist-packages (0.1.9)\n"
          ]
        }
      ]
    },
    {
      "cell_type": "markdown",
      "source": [
        "# LibsPy"
      ],
      "metadata": {
        "id": "_HAu5iD6rhg4"
      }
    },
    {
      "cell_type": "code",
      "source": [
        "from pyzbar.pyzbar import decode\n",
        "from PIL import Image\n",
        "import pandas as pd\n",
        "import os\n",
        "from datetime import datetime\n",
        "from google.colab import userdata"
      ],
      "metadata": {
        "id": "i2j7znC6jyZj"
      },
      "execution_count": null,
      "outputs": []
    },
    {
      "cell_type": "markdown",
      "source": [
        "# Locals"
      ],
      "metadata": {
        "id": "r6hgZTE4r0j8"
      }
    },
    {
      "cell_type": "code",
      "source": [
        "# local dos images skps\n",
        "os.chdir(f\"{userdata.get('base')}AgenciaTeste\")"
      ],
      "metadata": {
        "id": "wkhY39AFkAfK"
      },
      "execution_count": null,
      "outputs": []
    },
    {
      "cell_type": "markdown",
      "source": [
        "# Funções"
      ],
      "metadata": {
        "id": "yC80pZWeruBj"
      }
    },
    {
      "cell_type": "code",
      "source": [
        "from typing import List\n",
        "def ler_codigo_de_barras(image_path):\n",
        "    try:\n",
        "        img = Image.open(image_path)\n",
        "        decoded_objects = decode(img)\n",
        "        if decoded_objects:\n",
        "            return [obj.data.decode('utf-8') for obj in decoded_objects]\n",
        "        else:\n",
        "            return None\n",
        "    except FileNotFoundError:\n",
        "        print(f\"Erro: Arquivo não encontrado em {image_path}\")\n",
        "        return None\n",
        "    except Exception as e:\n",
        "        print(f\"Erro ao decodificar a imagem: {e}\")\n",
        "        return None\n",
        "\n",
        "def maior_menor(skp:List):\n",
        "  aux = []\n",
        "  for item in skp:\n",
        "    aux.append(int(item.replace('T', '')))\n",
        "  return [min(aux), max(aux)]\n",
        "\n",
        "def sequencia(skp:List):\n",
        "  return [skps for skps in range(skp[0], skp[1]+1)]\n",
        "\n",
        "def tipagem():\n",
        "  res = []\n",
        "  files = os.listdir()\n",
        "  for file in files:\n",
        "    if file.endswith('_B.jpg'):\n",
        "      res.append('Tipo B')\n",
        "    elif file.endswith('_A.jpg'):\n",
        "      res.append('Tipo A')\n",
        "    elif file.endswith('_C.jpg'):\n",
        "      res.append('Tipo C')\n",
        "  return res"
      ],
      "metadata": {
        "id": "BPktA4QciWpT"
      },
      "execution_count": null,
      "outputs": []
    },
    {
      "cell_type": "markdown",
      "source": [
        "# Total de Imagens"
      ],
      "metadata": {
        "id": "Ch2Gfe_8sTqI"
      }
    },
    {
      "cell_type": "code",
      "source": [
        "print('Total de Imagens')\n",
        "len(os.listdir())"
      ],
      "metadata": {
        "id": "C9ELgeo7k6or",
        "colab": {
          "base_uri": "https://localhost:8080/"
        },
        "outputId": "c5ad8d68-3f65-4c55-abbe-ab8e0904f01a"
      },
      "execution_count": null,
      "outputs": [
        {
          "output_type": "stream",
          "name": "stdout",
          "text": [
            "Total de Imagens\n"
          ]
        },
        {
          "output_type": "execute_result",
          "data": {
            "text/plain": [
              "3"
            ]
          },
          "metadata": {},
          "execution_count": 41
        }
      ]
    },
    {
      "cell_type": "markdown",
      "source": [
        "# Execução"
      ],
      "metadata": {
        "id": "Xm7CxYu-sCQ5"
      }
    },
    {
      "cell_type": "code",
      "source": [
        "skp = []\n",
        "for image in os.listdir():\n",
        "  skp.append(ler_codigo_de_barras(image))\n",
        "  print('imagem: ', image)"
      ],
      "metadata": {
        "id": "z8NR2oCkktln",
        "colab": {
          "base_uri": "https://localhost:8080/"
        },
        "outputId": "799669dd-2723-4c43-edb4-b8d31192ac73"
      },
      "execution_count": null,
      "outputs": [
        {
          "output_type": "stream",
          "name": "stdout",
          "text": [
            "imagem:  Primeiro_B.jpg\n",
            "imagem:  Segundo_B.jpg\n",
            "imagem:  Terceiro_A.jpg\n"
          ]
        }
      ]
    },
    {
      "cell_type": "code",
      "source": [
        "skp"
      ],
      "metadata": {
        "id": "ecCK-LLJqfk-",
        "colab": {
          "base_uri": "https://localhost:8080/"
        },
        "outputId": "89ad9e43-cd40-49c4-b1c1-8b1a5703ecb9"
      },
      "execution_count": null,
      "outputs": [
        {
          "output_type": "execute_result",
          "data": {
            "text/plain": [
              "[['T2038981738', 'T2038981597'],\n",
              " ['T2038981596', 'T2038981559'],\n",
              " ['T2044619583', 'T2044619563']]"
            ]
          },
          "metadata": {},
          "execution_count": 43
        }
      ]
    },
    {
      "cell_type": "code",
      "source": [
        "lista_skp = [maior_menor(item) for item in skp]"
      ],
      "metadata": {
        "id": "Erj_3K0nyCeW"
      },
      "execution_count": null,
      "outputs": []
    },
    {
      "cell_type": "markdown",
      "source": [
        "# Canhotos por Sequencia"
      ],
      "metadata": {
        "id": "mMEN8iuFr6OQ"
      }
    },
    {
      "cell_type": "code",
      "source": [
        "# Tamanho dos Itens Sequencia\n",
        "total = []\n",
        "for i, item in enumerate(skp):\n",
        "  seq = sequencia(maior_menor(item))\n",
        "  print(len(seq))\n",
        "  lista_skp[i].append(len(seq))\n",
        "  lista_skp[i].append(tipagem()[i])\n",
        "  total.append(len(seq))\n",
        "print('Total de Caixas prontas: ', sum(total))"
      ],
      "metadata": {
        "id": "RzrbNvz_qyta",
        "colab": {
          "base_uri": "https://localhost:8080/"
        },
        "outputId": "b2088419-fecb-48ce-c6ca-cd4d6529e110"
      },
      "execution_count": null,
      "outputs": [
        {
          "output_type": "stream",
          "name": "stdout",
          "text": [
            "142\n",
            "38\n",
            "21\n",
            "Total de Caixas prontas:  201\n"
          ]
        }
      ]
    },
    {
      "cell_type": "code",
      "source": [
        "#cols_relatorio = ['Inicial e Final', 'Sequencia', 'Tipo', 'Quantidade']\n",
        "cols_relatorio = ['Inicial', 'Final', 'Quantidade', 'Tipo']"
      ],
      "metadata": {
        "id": "wE1VGG4ps5Dx"
      },
      "execution_count": null,
      "outputs": []
    },
    {
      "cell_type": "code",
      "source": [
        "lista_skp"
      ],
      "metadata": {
        "id": "Y17CbKpc4X46",
        "colab": {
          "base_uri": "https://localhost:8080/"
        },
        "outputId": "fa25bee8-08fb-45f3-fde0-fbca02437d2d"
      },
      "execution_count": null,
      "outputs": [
        {
          "output_type": "execute_result",
          "data": {
            "text/plain": [
              "[[2038981597, 2038981738, 142, 'Tipo B'],\n",
              " [2038981559, 2038981596, 38, 'Tipo B'],\n",
              " [2044619563, 2044619583, 21, 'Tipo A']]"
            ]
          },
          "metadata": {},
          "execution_count": 47
        }
      ]
    },
    {
      "cell_type": "code",
      "source": [
        "df = pd.DataFrame(lista_skp, columns=cols_relatorio)"
      ],
      "metadata": {
        "id": "kWtDR6yn8pKE"
      },
      "execution_count": null,
      "outputs": []
    },
    {
      "cell_type": "markdown",
      "source": [
        "# Variáveis"
      ],
      "metadata": {
        "id": "X7zRqCatNkw6"
      }
    },
    {
      "cell_type": "code",
      "source": [
        "cgc  = '001'\n",
        "nome = 'Agteste'\n",
        "df['Agencia'] = cgc\n",
        "df['Nome'] = nome"
      ],
      "metadata": {
        "id": "Z2OJ4gnAJh-y"
      },
      "execution_count": null,
      "outputs": []
    },
    {
      "cell_type": "code",
      "source": [
        "df"
      ],
      "metadata": {
        "id": "HJcCYskqJwxS",
        "colab": {
          "base_uri": "https://localhost:8080/",
          "height": 143
        },
        "outputId": "bd9bfe90-b0fe-41fb-fdf1-e73dd0668fe6"
      },
      "execution_count": null,
      "outputs": [
        {
          "output_type": "execute_result",
          "data": {
            "text/plain": [
              "      Inicial       Final  Quantidade    Tipo Agencia     Nome\n",
              "0  2038981597  2038981738         142  Tipo B     001  Agteste\n",
              "1  2038981559  2038981596          38  Tipo B     001  Agteste\n",
              "2  2044619563  2044619583          21  Tipo A     001  Agteste"
            ],
            "text/html": [
              "\n",
              "  <div id=\"df-8a727677-7b2b-4af1-bcce-3dc996a98af2\" class=\"colab-df-container\">\n",
              "    <div>\n",
              "<style scoped>\n",
              "    .dataframe tbody tr th:only-of-type {\n",
              "        vertical-align: middle;\n",
              "    }\n",
              "\n",
              "    .dataframe tbody tr th {\n",
              "        vertical-align: top;\n",
              "    }\n",
              "\n",
              "    .dataframe thead th {\n",
              "        text-align: right;\n",
              "    }\n",
              "</style>\n",
              "<table border=\"1\" class=\"dataframe\">\n",
              "  <thead>\n",
              "    <tr style=\"text-align: right;\">\n",
              "      <th></th>\n",
              "      <th>Inicial</th>\n",
              "      <th>Final</th>\n",
              "      <th>Quantidade</th>\n",
              "      <th>Tipo</th>\n",
              "      <th>Agencia</th>\n",
              "      <th>Nome</th>\n",
              "    </tr>\n",
              "  </thead>\n",
              "  <tbody>\n",
              "    <tr>\n",
              "      <th>0</th>\n",
              "      <td>2038981597</td>\n",
              "      <td>2038981738</td>\n",
              "      <td>142</td>\n",
              "      <td>Tipo B</td>\n",
              "      <td>001</td>\n",
              "      <td>Agteste</td>\n",
              "    </tr>\n",
              "    <tr>\n",
              "      <th>1</th>\n",
              "      <td>2038981559</td>\n",
              "      <td>2038981596</td>\n",
              "      <td>38</td>\n",
              "      <td>Tipo B</td>\n",
              "      <td>001</td>\n",
              "      <td>Agteste</td>\n",
              "    </tr>\n",
              "    <tr>\n",
              "      <th>2</th>\n",
              "      <td>2044619563</td>\n",
              "      <td>2044619583</td>\n",
              "      <td>21</td>\n",
              "      <td>Tipo A</td>\n",
              "      <td>001</td>\n",
              "      <td>Agteste</td>\n",
              "    </tr>\n",
              "  </tbody>\n",
              "</table>\n",
              "</div>\n",
              "    <div class=\"colab-df-buttons\">\n",
              "\n",
              "  <div class=\"colab-df-container\">\n",
              "    <button class=\"colab-df-convert\" onclick=\"convertToInteractive('df-8a727677-7b2b-4af1-bcce-3dc996a98af2')\"\n",
              "            title=\"Convert this dataframe to an interactive table.\"\n",
              "            style=\"display:none;\">\n",
              "\n",
              "  <svg xmlns=\"http://www.w3.org/2000/svg\" height=\"24px\" viewBox=\"0 -960 960 960\">\n",
              "    <path d=\"M120-120v-720h720v720H120Zm60-500h600v-160H180v160Zm220 220h160v-160H400v160Zm0 220h160v-160H400v160ZM180-400h160v-160H180v160Zm440 0h160v-160H620v160ZM180-180h160v-160H180v160Zm440 0h160v-160H620v160Z\"/>\n",
              "  </svg>\n",
              "    </button>\n",
              "\n",
              "  <style>\n",
              "    .colab-df-container {\n",
              "      display:flex;\n",
              "      gap: 12px;\n",
              "    }\n",
              "\n",
              "    .colab-df-convert {\n",
              "      background-color: #E8F0FE;\n",
              "      border: none;\n",
              "      border-radius: 50%;\n",
              "      cursor: pointer;\n",
              "      display: none;\n",
              "      fill: #1967D2;\n",
              "      height: 32px;\n",
              "      padding: 0 0 0 0;\n",
              "      width: 32px;\n",
              "    }\n",
              "\n",
              "    .colab-df-convert:hover {\n",
              "      background-color: #E2EBFA;\n",
              "      box-shadow: 0px 1px 2px rgba(60, 64, 67, 0.3), 0px 1px 3px 1px rgba(60, 64, 67, 0.15);\n",
              "      fill: #174EA6;\n",
              "    }\n",
              "\n",
              "    .colab-df-buttons div {\n",
              "      margin-bottom: 4px;\n",
              "    }\n",
              "\n",
              "    [theme=dark] .colab-df-convert {\n",
              "      background-color: #3B4455;\n",
              "      fill: #D2E3FC;\n",
              "    }\n",
              "\n",
              "    [theme=dark] .colab-df-convert:hover {\n",
              "      background-color: #434B5C;\n",
              "      box-shadow: 0px 1px 3px 1px rgba(0, 0, 0, 0.15);\n",
              "      filter: drop-shadow(0px 1px 2px rgba(0, 0, 0, 0.3));\n",
              "      fill: #FFFFFF;\n",
              "    }\n",
              "  </style>\n",
              "\n",
              "    <script>\n",
              "      const buttonEl =\n",
              "        document.querySelector('#df-8a727677-7b2b-4af1-bcce-3dc996a98af2 button.colab-df-convert');\n",
              "      buttonEl.style.display =\n",
              "        google.colab.kernel.accessAllowed ? 'block' : 'none';\n",
              "\n",
              "      async function convertToInteractive(key) {\n",
              "        const element = document.querySelector('#df-8a727677-7b2b-4af1-bcce-3dc996a98af2');\n",
              "        const dataTable =\n",
              "          await google.colab.kernel.invokeFunction('convertToInteractive',\n",
              "                                                    [key], {});\n",
              "        if (!dataTable) return;\n",
              "\n",
              "        const docLinkHtml = 'Like what you see? Visit the ' +\n",
              "          '<a target=\"_blank\" href=https://colab.research.google.com/notebooks/data_table.ipynb>data table notebook</a>'\n",
              "          + ' to learn more about interactive tables.';\n",
              "        element.innerHTML = '';\n",
              "        dataTable['output_type'] = 'display_data';\n",
              "        await google.colab.output.renderOutput(dataTable, element);\n",
              "        const docLink = document.createElement('div');\n",
              "        docLink.innerHTML = docLinkHtml;\n",
              "        element.appendChild(docLink);\n",
              "      }\n",
              "    </script>\n",
              "  </div>\n",
              "\n",
              "\n",
              "    <div id=\"df-6e36e59f-ad47-4fc8-ab2e-6aa2e0cb3c36\">\n",
              "      <button class=\"colab-df-quickchart\" onclick=\"quickchart('df-6e36e59f-ad47-4fc8-ab2e-6aa2e0cb3c36')\"\n",
              "                title=\"Suggest charts\"\n",
              "                style=\"display:none;\">\n",
              "\n",
              "<svg xmlns=\"http://www.w3.org/2000/svg\" height=\"24px\"viewBox=\"0 0 24 24\"\n",
              "     width=\"24px\">\n",
              "    <g>\n",
              "        <path d=\"M19 3H5c-1.1 0-2 .9-2 2v14c0 1.1.9 2 2 2h14c1.1 0 2-.9 2-2V5c0-1.1-.9-2-2-2zM9 17H7v-7h2v7zm4 0h-2V7h2v10zm4 0h-2v-4h2v4z\"/>\n",
              "    </g>\n",
              "</svg>\n",
              "      </button>\n",
              "\n",
              "<style>\n",
              "  .colab-df-quickchart {\n",
              "      --bg-color: #E8F0FE;\n",
              "      --fill-color: #1967D2;\n",
              "      --hover-bg-color: #E2EBFA;\n",
              "      --hover-fill-color: #174EA6;\n",
              "      --disabled-fill-color: #AAA;\n",
              "      --disabled-bg-color: #DDD;\n",
              "  }\n",
              "\n",
              "  [theme=dark] .colab-df-quickchart {\n",
              "      --bg-color: #3B4455;\n",
              "      --fill-color: #D2E3FC;\n",
              "      --hover-bg-color: #434B5C;\n",
              "      --hover-fill-color: #FFFFFF;\n",
              "      --disabled-bg-color: #3B4455;\n",
              "      --disabled-fill-color: #666;\n",
              "  }\n",
              "\n",
              "  .colab-df-quickchart {\n",
              "    background-color: var(--bg-color);\n",
              "    border: none;\n",
              "    border-radius: 50%;\n",
              "    cursor: pointer;\n",
              "    display: none;\n",
              "    fill: var(--fill-color);\n",
              "    height: 32px;\n",
              "    padding: 0;\n",
              "    width: 32px;\n",
              "  }\n",
              "\n",
              "  .colab-df-quickchart:hover {\n",
              "    background-color: var(--hover-bg-color);\n",
              "    box-shadow: 0 1px 2px rgba(60, 64, 67, 0.3), 0 1px 3px 1px rgba(60, 64, 67, 0.15);\n",
              "    fill: var(--button-hover-fill-color);\n",
              "  }\n",
              "\n",
              "  .colab-df-quickchart-complete:disabled,\n",
              "  .colab-df-quickchart-complete:disabled:hover {\n",
              "    background-color: var(--disabled-bg-color);\n",
              "    fill: var(--disabled-fill-color);\n",
              "    box-shadow: none;\n",
              "  }\n",
              "\n",
              "  .colab-df-spinner {\n",
              "    border: 2px solid var(--fill-color);\n",
              "    border-color: transparent;\n",
              "    border-bottom-color: var(--fill-color);\n",
              "    animation:\n",
              "      spin 1s steps(1) infinite;\n",
              "  }\n",
              "\n",
              "  @keyframes spin {\n",
              "    0% {\n",
              "      border-color: transparent;\n",
              "      border-bottom-color: var(--fill-color);\n",
              "      border-left-color: var(--fill-color);\n",
              "    }\n",
              "    20% {\n",
              "      border-color: transparent;\n",
              "      border-left-color: var(--fill-color);\n",
              "      border-top-color: var(--fill-color);\n",
              "    }\n",
              "    30% {\n",
              "      border-color: transparent;\n",
              "      border-left-color: var(--fill-color);\n",
              "      border-top-color: var(--fill-color);\n",
              "      border-right-color: var(--fill-color);\n",
              "    }\n",
              "    40% {\n",
              "      border-color: transparent;\n",
              "      border-right-color: var(--fill-color);\n",
              "      border-top-color: var(--fill-color);\n",
              "    }\n",
              "    60% {\n",
              "      border-color: transparent;\n",
              "      border-right-color: var(--fill-color);\n",
              "    }\n",
              "    80% {\n",
              "      border-color: transparent;\n",
              "      border-right-color: var(--fill-color);\n",
              "      border-bottom-color: var(--fill-color);\n",
              "    }\n",
              "    90% {\n",
              "      border-color: transparent;\n",
              "      border-bottom-color: var(--fill-color);\n",
              "    }\n",
              "  }\n",
              "</style>\n",
              "\n",
              "      <script>\n",
              "        async function quickchart(key) {\n",
              "          const quickchartButtonEl =\n",
              "            document.querySelector('#' + key + ' button');\n",
              "          quickchartButtonEl.disabled = true;  // To prevent multiple clicks.\n",
              "          quickchartButtonEl.classList.add('colab-df-spinner');\n",
              "          try {\n",
              "            const charts = await google.colab.kernel.invokeFunction(\n",
              "                'suggestCharts', [key], {});\n",
              "          } catch (error) {\n",
              "            console.error('Error during call to suggestCharts:', error);\n",
              "          }\n",
              "          quickchartButtonEl.classList.remove('colab-df-spinner');\n",
              "          quickchartButtonEl.classList.add('colab-df-quickchart-complete');\n",
              "        }\n",
              "        (() => {\n",
              "          let quickchartButtonEl =\n",
              "            document.querySelector('#df-6e36e59f-ad47-4fc8-ab2e-6aa2e0cb3c36 button');\n",
              "          quickchartButtonEl.style.display =\n",
              "            google.colab.kernel.accessAllowed ? 'block' : 'none';\n",
              "        })();\n",
              "      </script>\n",
              "    </div>\n",
              "\n",
              "  <div id=\"id_20a8225f-90bc-41e4-8728-415ab21e11b7\">\n",
              "    <style>\n",
              "      .colab-df-generate {\n",
              "        background-color: #E8F0FE;\n",
              "        border: none;\n",
              "        border-radius: 50%;\n",
              "        cursor: pointer;\n",
              "        display: none;\n",
              "        fill: #1967D2;\n",
              "        height: 32px;\n",
              "        padding: 0 0 0 0;\n",
              "        width: 32px;\n",
              "      }\n",
              "\n",
              "      .colab-df-generate:hover {\n",
              "        background-color: #E2EBFA;\n",
              "        box-shadow: 0px 1px 2px rgba(60, 64, 67, 0.3), 0px 1px 3px 1px rgba(60, 64, 67, 0.15);\n",
              "        fill: #174EA6;\n",
              "      }\n",
              "\n",
              "      [theme=dark] .colab-df-generate {\n",
              "        background-color: #3B4455;\n",
              "        fill: #D2E3FC;\n",
              "      }\n",
              "\n",
              "      [theme=dark] .colab-df-generate:hover {\n",
              "        background-color: #434B5C;\n",
              "        box-shadow: 0px 1px 3px 1px rgba(0, 0, 0, 0.15);\n",
              "        filter: drop-shadow(0px 1px 2px rgba(0, 0, 0, 0.3));\n",
              "        fill: #FFFFFF;\n",
              "      }\n",
              "    </style>\n",
              "    <button class=\"colab-df-generate\" onclick=\"generateWithVariable('df')\"\n",
              "            title=\"Generate code using this dataframe.\"\n",
              "            style=\"display:none;\">\n",
              "\n",
              "  <svg xmlns=\"http://www.w3.org/2000/svg\" height=\"24px\"viewBox=\"0 0 24 24\"\n",
              "       width=\"24px\">\n",
              "    <path d=\"M7,19H8.4L18.45,9,17,7.55,7,17.6ZM5,21V16.75L18.45,3.32a2,2,0,0,1,2.83,0l1.4,1.43a1.91,1.91,0,0,1,.58,1.4,1.91,1.91,0,0,1-.58,1.4L9.25,21ZM18.45,9,17,7.55Zm-12,3A5.31,5.31,0,0,0,4.9,8.1,5.31,5.31,0,0,0,1,6.5,5.31,5.31,0,0,0,4.9,4.9,5.31,5.31,0,0,0,6.5,1,5.31,5.31,0,0,0,8.1,4.9,5.31,5.31,0,0,0,12,6.5,5.46,5.46,0,0,0,6.5,12Z\"/>\n",
              "  </svg>\n",
              "    </button>\n",
              "    <script>\n",
              "      (() => {\n",
              "      const buttonEl =\n",
              "        document.querySelector('#id_20a8225f-90bc-41e4-8728-415ab21e11b7 button.colab-df-generate');\n",
              "      buttonEl.style.display =\n",
              "        google.colab.kernel.accessAllowed ? 'block' : 'none';\n",
              "\n",
              "      buttonEl.onclick = () => {\n",
              "        google.colab.notebook.generateWithVariable('df');\n",
              "      }\n",
              "      })();\n",
              "    </script>\n",
              "  </div>\n",
              "\n",
              "    </div>\n",
              "  </div>\n"
            ],
            "application/vnd.google.colaboratory.intrinsic+json": {
              "type": "dataframe",
              "variable_name": "df",
              "summary": "{\n  \"name\": \"df\",\n  \"rows\": 3,\n  \"fields\": [\n    {\n      \"column\": \"Inicial\",\n      \"properties\": {\n        \"dtype\": \"number\",\n        \"std\": 3255092,\n        \"min\": 2038981559,\n        \"max\": 2044619563,\n        \"num_unique_values\": 3,\n        \"samples\": [\n          2038981597,\n          2038981559,\n          2044619563\n        ],\n        \"semantic_type\": \"\",\n        \"description\": \"\"\n      }\n    },\n    {\n      \"column\": \"Final\",\n      \"properties\": {\n        \"dtype\": \"number\",\n        \"std\": 3255052,\n        \"min\": 2038981596,\n        \"max\": 2044619583,\n        \"num_unique_values\": 3,\n        \"samples\": [\n          2038981738,\n          2038981596,\n          2044619583\n        ],\n        \"semantic_type\": \"\",\n        \"description\": \"\"\n      }\n    },\n    {\n      \"column\": \"Quantidade\",\n      \"properties\": {\n        \"dtype\": \"number\",\n        \"std\": 65,\n        \"min\": 21,\n        \"max\": 142,\n        \"num_unique_values\": 3,\n        \"samples\": [\n          142,\n          38,\n          21\n        ],\n        \"semantic_type\": \"\",\n        \"description\": \"\"\n      }\n    },\n    {\n      \"column\": \"Tipo\",\n      \"properties\": {\n        \"dtype\": \"string\",\n        \"num_unique_values\": 2,\n        \"samples\": [\n          \"Tipo A\",\n          \"Tipo B\"\n        ],\n        \"semantic_type\": \"\",\n        \"description\": \"\"\n      }\n    },\n    {\n      \"column\": \"Agencia\",\n      \"properties\": {\n        \"dtype\": \"category\",\n        \"num_unique_values\": 1,\n        \"samples\": [\n          \"001\"\n        ],\n        \"semantic_type\": \"\",\n        \"description\": \"\"\n      }\n    },\n    {\n      \"column\": \"Nome\",\n      \"properties\": {\n        \"dtype\": \"category\",\n        \"num_unique_values\": 1,\n        \"samples\": [\n          \"Agteste\"\n        ],\n        \"semantic_type\": \"\",\n        \"description\": \"\"\n      }\n    }\n  ]\n}"
            }
          },
          "metadata": {},
          "execution_count": 50
        }
      ]
    },
    {
      "cell_type": "code",
      "source": [
        "# Caixas prontas\n",
        "Relatorio = f'''\n",
        "\n",
        "\\033[1m# Relatório Agencia {nome} - CGC: {agencia}\\033[0m\n",
        "\n",
        "\\033[1mTipo A: {df[df['Tipo'] == 'Tipo A']['Quantidade'].sum()}\\033[0m\n",
        "\\033[1mTipo B: {df[df['Tipo'] == 'Tipo B']['Quantidade'].sum()}\\033[0m\n",
        "\\033[1mTipo C: {df[df['Tipo'] == 'Tipo C']['Quantidade'].sum()}\\033[0m\n",
        "\n",
        "\n",
        "\\033[1mTotal de caixas prontas: {df['Quantidade'].sum()}\\033[0m\n",
        "Data: {datetime.now().strftime(\"%d-%m-%Y\")}\n",
        "\n",
        "'''\n",
        "print(Relatorio)\n",
        "\n",
        "\n",
        "\n",
        "\n"
      ],
      "metadata": {
        "id": "5yWoETw_RXsV",
        "colab": {
          "base_uri": "https://localhost:8080/"
        },
        "outputId": "41591e98-36bf-44a4-aeec-f36f34cb263f"
      },
      "execution_count": null,
      "outputs": [
        {
          "output_type": "stream",
          "name": "stdout",
          "text": [
            "\n",
            "\n",
            "\u001b[1m# Relatório Agencia Agteste - CGC: 001\u001b[0m\n",
            "\n",
            "\u001b[1mTipo A: 21\u001b[0m\n",
            "\u001b[1mTipo B: 180\u001b[0m\n",
            "\u001b[1mTipo C: 0\u001b[0m\n",
            "\n",
            "\n",
            "\u001b[1mTotal de caixas prontas: 201\u001b[0m\n",
            "Data: 06-07-2025\n",
            "\n",
            "\n"
          ]
        }
      ]
    },
    {
      "cell_type": "code",
      "source": [
        "os.chdir(userdata.get('base'))"
      ],
      "metadata": {
        "id": "FbG8mkeYLAR7"
      },
      "execution_count": null,
      "outputs": []
    },
    {
      "cell_type": "code",
      "source": [
        "df.to_excel(f'relatorio_Agencia_{nome}_{agencia}_Data_{datetime.now().strftime(\"%d-%m-%Y\")}.xlsx', sheet_name=f'{nome}-{agencia}')"
      ],
      "metadata": {
        "id": "gtNVICIIGwas"
      },
      "execution_count": null,
      "outputs": []
    }
  ]
}